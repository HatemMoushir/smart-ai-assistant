{
  "nbformat": 4,
  "nbformat_minor": 0,
  "metadata": {
    "colab": {
      "provenance": [],
      "authorship_tag": "ABX9TyN0M7eQQo/x/DCvuw009ysN",
      "include_colab_link": true
    },
    "kernelspec": {
      "name": "python3",
      "display_name": "Python 3"
    },
    "language_info": {
      "name": "python"
    }
  },
  "cells": [
    {
      "cell_type": "markdown",
      "metadata": {
        "id": "view-in-github",
        "colab_type": "text"
      },
      "source": [
        "<a href=\"https://colab.research.google.com/github/HatemMoushir/smart-ai-assistant/blob/main/train_sentiment_model.ipynb\" target=\"_parent\"><img src=\"https://colab.research.google.com/assets/colab-badge.svg\" alt=\"Open In Colab\"/></a>"
      ]
    },
    {
      "cell_type": "code",
      "execution_count": null,
      "metadata": {
        "id": "rqceT1fBREig"
      },
      "outputs": [],
      "source": [
        "\n",
        "# Step 1: تثبيت المكتبات\n",
        "!pip install transformers datasets -q\n",
        "\n",
        "# Step 2: تحميل النموذج الجاهز لتحليل المشاعر\n",
        "from transformers import pipeline\n",
        "\n",
        "model_name = \"distilbert-base-uncased\"\n",
        "classifier = pipeline(\"sentiment-analysis\", model=model_name)\n",
        "\n",
        "# Step 3: تجربة قبل التدريب\n",
        "print(\"🧪 قبل التدريب:\")\n",
        "print(classifier(\"I hate this place.\"))   # Expected: NEGATIVE\n",
        "print(classifier(\"What a wonderful project!\"))  # Expected: POSITIVE\n",
        "\n",
        "# Step 4: تحميل بيانات IMDb من HuggingFace Datasets\n",
        "from datasets import load_dataset\n",
        "\n",
        "dataset = load_dataset(\"imdb\")\n",
        "dataset = dataset[\"train\"].select(range(1000))  # خذ 1000 مثال فقط كبداية\n",
        "\n",
        "# Step 5: تجهيز البيانات للتدريب\n",
        "from transformers import AutoTokenizer\n",
        "from datasets import Dataset\n",
        "import torch\n",
        "\n",
        "tokenizer = AutoTokenizer.from_pretrained(model_name)\n",
        "\n",
        "def tokenize_function(example):\n",
        "    return tokenizer(example[\"text\"], truncation=True, padding=\"max_length\", max_length=256)\n",
        "\n",
        "tokenized_dataset = dataset.map(tokenize_function, batched=True)\n",
        "tokenized_dataset = tokenized_dataset.rename_column(\"label\", \"labels\")\n",
        "tokenized_dataset.set_format(\"torch\", columns=[\"input_ids\", \"attention_mask\", \"labels\"])\n",
        "\n",
        "# Step 6: تدريب سريع Fine-Tuning\n",
        "from transformers import AutoModelForSequenceClassification, TrainingArguments, Trainer\n",
        "\n",
        "model = AutoModelForSequenceClassification.from_pretrained(model_name, num_labels=2)\n",
        "\n",
        "training_args = TrainingArguments(\n",
        "    output_dir=\"./results\",\n",
        "    num_train_epochs=1,\n",
        "    per_device_train_batch_size=8,\n",
        "    logging_dir=\"./logs\",\n",
        "    logging_steps=10,\n",
        "    save_strategy=\"no\"\n",
        ")\n",
        "\n",
        "trainer = Trainer(\n",
        "    model=model,\n",
        "    args=training_args,\n",
        "    train_dataset=tokenized_dataset\n",
        ")\n",
        "\n",
        "print(\"🚀 بدء التدريب...\")\n",
        "trainer.train()\n",
        "\n",
        "# Step 7: تجربة بعد التدريب\n",
        "print(\"🧪 بعد التدريب:\")\n",
        "trainer.model.eval()\n",
        "classifier_updated = pipeline(\"sentiment-analysis\", model=model, tokenizer=tokenizer)\n",
        "print(classifier_updated(\"I hate this place.\"))   # Expected: closer to NEGATIVE\n",
        "print(classifier_updated(\"What a wonderful project!\"))  # Expected: closer to POSITIVE\n",
        "\n",
        "# Step 8: حفظ النموذج المدرب\n",
        "model.save_pretrained(\"saved_model\")\n",
        "tokenizer.save_pretrained(\"saved_model\")"
      ]
    }
  ]
}