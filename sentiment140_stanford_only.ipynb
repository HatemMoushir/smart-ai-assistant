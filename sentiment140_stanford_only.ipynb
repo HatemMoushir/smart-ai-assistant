{
  "cells": [
    {
      "cell_type": "markdown",
      "metadata": {
        "id": "view-in-github",
        "colab_type": "text"
      },
      "source": [
        "<a href=\"https://colab.research.google.com/github/HatemMoushir/smart-ai-assistant/blob/main/sentiment140_stanford_only.ipynb\" target=\"_parent\"><img src=\"https://colab.research.google.com/assets/colab-badge.svg\" alt=\"Open In Colab\"/></a>"
      ]
    },
    {
      "cell_type": "code",
      "metadata": {
        "id": "Ls3Bni9YVJub"
      },
      "source": [
        "# ✅ تدريب Sentiment140 فقط - من Stanford - باستخدام DistilBERT\n",
        "\n",
        "# 1. تحميل البيانات الأصلية من Stanford\n",
        "!wget https://cs.stanford.edu/people/alecmgo/trainingandtestdata.zip\n",
        "!unzip trainingandtestdata.zip\n",
        "\n",
        "# 2. قراءة البيانات\n",
        "import pandas as pd\n",
        "\n",
        "cols = ['label', 'id', 'date', 'query', 'user', 'text']\n",
        "df = pd.read_csv('training.1600000.processed.noemoticon.csv', encoding='latin-1', names=cols)\n",
        "\n",
        "# 3. تحويل التصنيفات:\n",
        "# 0 → سلبي | 4 → إيجابي → نحولها لـ 1\n",
        "df = df[df['label'].isin([0, 4])]\n",
        "df['label'] = df['label'].map({0: 0, 4: 1})\n",
        "\n",
        "# 4. تقليل الحجم لعينة صغيرة للتجربة\n",
        "df_small = df.sample(10000, random_state=42).reset_index(drop=True)\n",
        "\n",
        "# 5. تحويل إلى Dataset\n",
        "from datasets import Dataset\n",
        "dataset = Dataset.from_pandas(df_small[['text', 'label']])\n",
        "\n",
        "# 6. تحميل Tokenizer & Model\n",
        "from transformers import AutoTokenizer, AutoModelForSequenceClassification, TrainingArguments, Trainer\n",
        "import numpy as np\n",
        "import evaluate\n",
        "\n",
        "tokenizer = AutoTokenizer.from_pretrained(\"distilbert-base-uncased\")\n",
        "\n",
        "def tokenize(example):\n",
        "    return tokenizer(example[\"text\"], truncation=True, padding=\"max_length\")\n",
        "\n",
        "dataset = dataset.map(tokenize, batched=True)\n",
        "\n",
        "# 7. تقسيم بيانات التدريب والتقييم\n",
        "dataset = dataset.train_test_split(test_size=0.1)\n",
        "\n",
        "# 8. تحميل الموديل\n",
        "model = AutoModelForSequenceClassification.from_pretrained(\"distilbert-base-uncased\", num_labels=2)\n",
        "\n",
        "# 9. الإعدادات\n",
        "accuracy = evaluate.load(\"accuracy\")\n",
        "\n",
        "def compute_metrics(eval_pred):\n",
        "    logits, labels = eval_pred\n",
        "    predictions = np.argmax(logits, axis=-1)\n",
        "    return accuracy.compute(predictions=predictions, references=labels)\n",
        "\n",
        "args = TrainingArguments(\n",
        "    output_dir=\"sent140_model\",\n",
        "    evaluation_strategy=\"epoch\",\n",
        "    per_device_train_batch_size=16,\n",
        "    per_device_eval_batch_size=16,\n",
        "    num_train_epochs=2,\n",
        "    save_strategy=\"epoch\",\n",
        "    load_best_model_at_end=True,\n",
        "    logging_steps=100,\n",
        ")\n",
        "\n",
        "trainer = Trainer(\n",
        "    model=model,\n",
        "    args=args,\n",
        "    train_dataset=dataset[\"train\"],\n",
        "    eval_dataset=dataset[\"test\"],\n",
        "    tokenizer=tokenizer,\n",
        "    compute_metrics=compute_metrics,\n",
        ")\n",
        "\n",
        "# 🔁 تدريب الموديل\n",
        "trainer.train()"
      ],
      "outputs": [],
      "execution_count": null,
      "id": "Ls3Bni9YVJub"
    }
  ],
  "metadata": {
    "kernelspec": {
      "name": "python3",
      "display_name": "Python 3"
    },
    "language_info": {
      "name": "python",
      "version": "3.11"
    },
    "colab": {
      "provenance": [],
      "include_colab_link": true
    }
  },
  "nbformat": 4,
  "nbformat_minor": 5
}