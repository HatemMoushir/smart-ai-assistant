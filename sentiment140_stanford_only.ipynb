{
  "cells": [
    {
      "cell_type": "markdown",
      "metadata": {
        "id": "view-in-github",
        "colab_type": "text"
      },
      "source": [
        "<a href=\"https://colab.research.google.com/github/HatemMoushir/smart-ai-assistant/blob/main/sentiment140_stanford_only.ipynb\" target=\"_parent\"><img src=\"https://colab.research.google.com/assets/colab-badge.svg\" alt=\"Open In Colab\"/></a>"
      ]
    },
    {
      "cell_type": "code",
      "metadata": {
        "id": "qnORoFoj7bbY"
      },
      "source": [
        "# ✅ تدريب Sentiment140 فقط - من Stanford - باستخدام DistilBERT\n",
        "\n",
        "# 1. تحميل البيانات الأصلية من Stanford\n",
        "!wget https://cs.stanford.edu/people/alecmgo/trainingandtestdata.zip\n",
        "\n",
        "!unzip trainingandtestdata.zip\n",
        "\n",
        "!pip install -q datasets transformers evaluate pandas\n",
        "\n",
        "!pip install -q evaluate\n",
        "\n",
        "\n",
        "# 2. قراءة البيانات\n",
        "import pandas as pd\n",
        "import os\n",
        "\n",
        "cols = ['label', 'id', 'date', 'query', 'user', 'text']\n",
        "df = pd.read_csv('training.1600000.processed.noemoticon.csv', encoding='latin-1', names=cols)\n",
        "\n",
        "# 3. تحويل التصنيفات:\n",
        "# 0 → سلبي | 4 → إيجابي → نحولها لـ 1\n",
        "df = df[df['label'].isin([0, 4])]\n",
        "df['label'] = df['label'].map({0: 0, 4: 1})\n",
        "\n",
        "# 4. تقليل الحجم لعينة صغيرة للتجربة\n",
        "df_small = df.sample(10000, random_state=42).reset_index(drop=True)\n",
        "\n",
        "# 5. تحويل إلى Dataset\n",
        "from datasets import Dataset\n",
        "dataset = Dataset.from_pandas(df_small[['text', 'label']])\n",
        "\n",
        "# 6. تحميل Tokenizer & Model\n",
        "from transformers import AutoTokenizer, AutoModelForSequenceClassification, TrainingArguments, Trainer\n",
        "import numpy as np\n",
        "import evaluate\n",
        "\n",
        "tokenizer = AutoTokenizer.from_pretrained(\"distilbert-base-uncased\")\n",
        "\n",
        "def tokenize(example):\n",
        "    return tokenizer(example[\"text\"], truncation=True, padding=\"max_length\")\n",
        "\n",
        "dataset = dataset.map(tokenize, batched=True)\n",
        "\n",
        "# 7. تقسيم بيانات التدريب والتقييم\n",
        "dataset = dataset.train_test_split(test_size=0.1)\n",
        "\n",
        "# 8. تحميل الموديل\n",
        "model = AutoModelForSequenceClassification.from_pretrained(\"distilbert-base-uncased\", num_labels=2)\n",
        "\n",
        "# 9. الإعدادات\n",
        "accuracy = evaluate.load(\"accuracy\")\n",
        "\n",
        "os.environ[\"WANDB_DISABLED\"] = \"true\"\n",
        "\n",
        "def compute_metrics(eval_pred):\n",
        "    logits, labels = eval_pred\n",
        "    predictions = np.argmax(logits, axis=-1)\n",
        "    return accuracy.compute(predictions=predictions, references=labels)\n",
        "\n",
        "args = TrainingArguments(\n",
        "    output_dir=\"sent140_model\",\n",
        "    eval_strategy=\"epoch\",\n",
        "    per_device_train_batch_size=16,\n",
        "    per_device_eval_batch_size=16,\n",
        "    num_train_epochs=2,\n",
        "    save_strategy=\"epoch\",\n",
        "    load_best_model_at_end=True,\n",
        "    logging_steps=100,\n",
        "    report_to=None , # Disable wandb logging\n",
        ")\n",
        "\n",
        "trainer = Trainer(\n",
        "    model=model,\n",
        "    args=args,\n",
        "    train_dataset=dataset[\"train\"],\n",
        "    eval_dataset=dataset[\"test\"],\n",
        "    tokenizer=tokenizer,\n",
        "    compute_metrics=compute_metrics,\n",
        ")\n",
        "\n",
        "# 🔁 تدريب الموديل\n",
        "trainer.train()\n",
        "\n",
        "# Save the model after training\n",
        "trainer.save_model(\"sent140_model\")"
      ],
      "outputs": [],
      "execution_count": null,
      "id": "qnORoFoj7bbY"
    },
    {
      "cell_type": "code",
      "source": [
        "from transformers import pipeline, AutoModelForSequenceClassification, AutoTokenizer\n",
        "\n",
        "# Load the locally saved model and tokenizer\n",
        "model = AutoModelForSequenceClassification.from_pretrained(\"sent140_model\")\n",
        "tokenizer = AutoTokenizer.from_pretrained(\"sent140_model\")\n",
        "\n",
        "# Create the pipeline with the loaded model and tokenizer\n",
        "classifier = pipeline(\"sentiment-analysis\", model=model, tokenizer=tokenizer)\n",
        "\n",
        "# اختبار على جملة\n",
        "result = classifier(\"This is the best day ever!\")\n",
        "\n",
        "print(result)"
      ],
      "metadata": {
        "id": "DXvTJgJyb4jf"
      },
      "id": "DXvTJgJyb4jf",
      "execution_count": null,
      "outputs": []
    }
  ],
  "metadata": {
    "kernelspec": {
      "name": "python3",
      "display_name": "Python 3"
    },
    "language_info": {
      "name": "python",
      "version": "3.11"
    },
    "colab": {
      "provenance": [],
      "include_colab_link": true
    }
  },
  "nbformat": 4,
  "nbformat_minor": 5
}