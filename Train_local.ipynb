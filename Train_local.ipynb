{
  "nbformat": 4,
  "nbformat_minor": 0,
  "metadata": {
    "colab": {
      "provenance": [],
      "authorship_tag": "ABX9TyMkNJ0/NJ4Fuhbzpp76WvGj",
      "include_colab_link": true
    },
    "kernelspec": {
      "name": "python3",
      "display_name": "Python 3"
    },
    "language_info": {
      "name": "python"
    }
  },
  "cells": [
    {
      "cell_type": "markdown",
      "metadata": {
        "id": "view-in-github",
        "colab_type": "text"
      },
      "source": [
        "<a href=\"https://colab.research.google.com/github/HatemMoushir/smart-ai-assistant/blob/main/Train_local.ipynb\" target=\"_parent\"><img src=\"https://colab.research.google.com/assets/colab-badge.svg\" alt=\"Open In Colab\"/></a>"
      ]
    },
    {
      "cell_type": "code",
      "execution_count": null,
      "metadata": {
        "id": "159Aq4qM3Jd1"
      },
      "outputs": [],
      "source": [
        "\n",
        "import pandas as pd\n",
        "from datasets import Dataset\n",
        "\n",
        "# Load sample CSV from GitHub or manually created\n",
        "df = pd.DataFrame({\n",
        "    \"text\": [\n",
        "        \"This is amazing!\",\n",
        "        \"I hate this so much.\",\n",
        "        \"Absolutely loved it.\",\n",
        "        \"Not good at all.\",\n",
        "        \"It was okay, I guess.\"\n",
        "    ],\n",
        "    \"label\": [1, 0, 1, 0, 1]\n",
        "})\n",
        "\n",
        "dataset = Dataset.from_pandas(df)\n",
        "dataset[0]"
      ]
    }
  ]
}