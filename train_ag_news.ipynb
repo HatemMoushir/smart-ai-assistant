{
 "cells": [
  {
   "cell_type": "code",
   "execution_count": null,
   "id": "208a41c4",
   "metadata": {},
   "outputs": [],
   "source": [
    "# ✅ Clean Working Version: Load & Preview ag_news Dataset\n",
    "\n",
    "from datasets import load_dataset\n",
    "\n",
    "# Load a safe, working dataset\n",
    "dataset = load_dataset(\"ag_news\")\n",
    "dataset = dataset[\"train\"].select(range(1000))  # Take first 1000 samples\n",
    "\n",
    "# Preview sample\n",
    "print(\"🔍 Sample example:\")\n",
    "print(dataset[0])\n"
   ]
  }
 ],
 "metadata": {},
 "nbformat": 4,
 "nbformat_minor": 5
}
